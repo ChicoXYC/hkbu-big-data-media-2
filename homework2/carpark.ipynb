{
 "cells": [
  {
   "cell_type": "code",
   "execution_count": 1,
   "metadata": {},
   "outputs": [],
   "source": [
    "import requests\n",
    "import csv\n",
    "from bs4 import BeautifulSoup"
   ]
  },
  {
   "cell_type": "code",
   "execution_count": 2,
   "metadata": {},
   "outputs": [],
   "source": [
    "def parking(n):\n",
    "    resp = requests.get(n)\n",
    "    resp.encoding=('utf8')\n",
    "    html_str = resp.text\n",
    "    document = BeautifulSoup(html_str,'html.parser')\n",
    "    titles = document.find_all('tr',attrs = {'class':'car-park-list-even'})\n",
    "    list_title = []\n",
    "    list_item = []\n",
    "    for title in titles:\n",
    "        items = title.find_all('td')\n",
    "        for item in items:\n",
    "            list_item.append(item.text)\n",
    "        list_title.append(list_item)\n",
    "        list_item = []\n",
    "    return list_title"
   ]
  },
  {
   "cell_type": "code",
   "execution_count": null,
   "metadata": {},
   "outputs": [],
   "source": [
    "list_parking = []\n",
    "for i in range(1,101):\n",
    "    n = 'http://www.carparkhk.com/transaction-records.php?page=%s' % i\n",
    "    list_parking.extend(parking(n))"
   ]
  },
  {
   "cell_type": "code",
   "execution_count": 4,
   "metadata": {},
   "outputs": [],
   "source": [
    "with open('carpark.csv','w',newline='') as f:\n",
    "    writer = csv.writer(f)\n",
    "    writer.writerows(list_parking) "
   ]
  },
  {
   "cell_type": "code",
   "execution_count": null,
   "metadata": {},
   "outputs": [],
   "source": []
  }
 ],
 "metadata": {
  "kernelspec": {
   "display_name": "Python 3",
   "language": "python",
   "name": "python3"
  },
  "language_info": {
   "codemirror_mode": {
    "name": "ipython",
    "version": 3
   },
   "file_extension": ".py",
   "mimetype": "text/x-python",
   "name": "python",
   "nbconvert_exporter": "python",
   "pygments_lexer": "ipython3",
   "version": "3.6.4"
  }
 },
 "nbformat": 4,
 "nbformat_minor": 2
}
